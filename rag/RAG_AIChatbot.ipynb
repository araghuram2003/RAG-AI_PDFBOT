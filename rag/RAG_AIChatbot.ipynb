{
 "cells": [
  {
   "cell_type": "code",
   "execution_count": 1,
   "id": "4123b422",
   "metadata": {},
   "outputs": [],
   "source": [
    "from PyPDF2 import PdfReader\n",
    "from langchain.text_splitter import CharacterTextSplitter\n",
    "from langchain.vectorstores import FAISS\n",
    "from langchain_huggingface import HuggingFaceEmbeddings\n",
    "from langchain_groq import ChatGroq\n",
    "from langchain.chains import RetrievalQA\n",
    "import os\n",
    "from dotenv import load_dotenv\n",
    "\n",
    "# Load environment variables\n",
    "load_dotenv()\n",
    "groq_api_key = os.environ.get(\"GROQ_API_KEY\")"
   ]
  },
  {
   "cell_type": "code",
   "execution_count": 2,
   "id": "88f31918",
   "metadata": {},
   "outputs": [],
   "source": [
    "def read_pdf(file_path):\n",
    "    reader = PdfReader(file_path)\n",
    "    text = \"\"\n",
    "    for page in reader.pages:\n",
    "        text += page.extract_text() \n",
    "    return text\n",
    "\n",
    "def split_text(text, chunk_size=1000, chunk_overlap=200):\n",
    "    text_splitter = CharacterTextSplitter(\n",
    "        separator=\"\\n\",\n",
    "        chunk_size=chunk_size,\n",
    "        chunk_overlap=chunk_overlap,\n",
    "        length_function=len\n",
    "    )\n",
    "    return text_splitter.split_text(text)"
   ]
  },
  {
   "cell_type": "code",
   "execution_count": 3,
   "id": "a3132404",
   "metadata": {},
   "outputs": [],
   "source": [
    "def create_vector_store(text_chunks, embeddings):\n",
    "    return FAISS.from_texts(texts=text_chunks, embedding=embeddings)"
   ]
  },
  {
   "cell_type": "code",
   "execution_count": null,
   "id": "ead37056",
   "metadata": {},
   "outputs": [
    {
     "name": "stdout",
     "output_type": "stream",
     "text": [
      "Successfully read PDF\n",
      "Split text into 61 chunks\n"
     ]
    },
    {
     "name": "stderr",
     "output_type": "stream",
     "text": [
      "c:\\Users\\raghu\\Desktop\\rag\\.venv\\Lib\\site-packages\\tqdm\\auto.py:21: TqdmWarning: IProgress not found. Please update jupyter and ipywidgets. See https://ipywidgets.readthedocs.io/en/stable/user_install.html\n",
      "  from .autonotebook import tqdm as notebook_tqdm\n"
     ]
    },
    {
     "name": "stdout",
     "output_type": "stream",
     "text": [
      "Creating vector store...\n",
      "Vector store created successfully\n"
     ]
    }
   ],
   "source": [
    "def main():\n",
    "    pdf_path = \"1. dietary supplements - for whom.pdf\"\n",
    "    pdf_path = \"INDIAN DIETARY SUPPLEMENT MARKET.pdf\"\n",
    "    pdf_path = \"2.Hassan2020_Chapter_DietarySupplementsTypesHealthB.pdf\"\n",
    "\n",
    "    if not os.path.exists(pdf_path):\n",
    "        print(f\"Error: File not found at {pdf_path}\")\n",
    "        return\n",
    "\n",
    "    pdf_text = read_pdf(pdf_path)\n",
    "    print(\"Successfully read PDF\")\n",
    "\n",
    "    text_chunks = split_text(pdf_text)\n",
    "    print(f\"Split text into {len(text_chunks)} chunks\")\n",
    "\n",
    "    embeddings = HuggingFaceEmbeddings(\n",
    "        model_name=\"all-MiniLM-L6-v2\",\n",
    "        model_kwargs={'device': 'cpu'},\n",
    "        encode_kwargs={'normalize_embeddings': False}\n",
    "    )\n",
    "\n",
    "    print(\"Creating vector store...\")\n",
    "    vectorstore = create_vector_store(text_chunks, embeddings)\n",
    "    print(\"Vector store created successfully\")\n",
    "\n",
    "    retriever = vectorstore.as_retriever()\n",
    "    llm = ChatGroq(\n",
    "        temperature=0.7,\n",
    "        model_name=\"llama3-8b-8192\",\n",
    "        groq_api_key=groq_api_key\n",
    "    )\n",
    "\n",
    "    qa_chain = RetrievalQA.from_chain_type(\n",
    "        llm=llm,\n",
    "        retriever=retriever,\n",
    "        return_source_documents=False\n",
    "    )\n",
    "\n",
    "    while True:\n",
    "        query = input(\"\\nEnter your question (or 'quit' to exit): \")\n",
    "        if query.lower() == 'quit':\n",
    "            break\n",
    "        try:\n",
    "            print(\"\\nProcessing...\")\n",
    "            result = qa_chain.invoke({\"query\": query})\n",
    "            print(\"Query:\", query)\n",
    "            print(\"\\nAnswer:\", result[\"result\"])\n",
    "        except Exception as e:\n",
    "            print(f\"Error processing query: {str(e)}\")\n",
    "\n",
    "if __name__ == \"__main__\":\n",
    "    main()"
   ]
  }
 ],
 "metadata": {
  "kernelspec": {
   "display_name": ".venv",
   "language": "python",
   "name": "python3"
  },
  "language_info": {
   "codemirror_mode": {
    "name": "ipython",
    "version": 3
   },
   "file_extension": ".py",
   "mimetype": "text/x-python",
   "name": "python",
   "nbconvert_exporter": "python",
   "pygments_lexer": "ipython3",
   "version": "3.11.9"
  }
 },
 "nbformat": 4,
 "nbformat_minor": 5
}
